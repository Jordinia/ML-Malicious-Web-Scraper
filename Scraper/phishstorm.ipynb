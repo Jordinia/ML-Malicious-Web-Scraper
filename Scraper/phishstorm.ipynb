{
 "cells": [
  {
   "cell_type": "code",
   "execution_count": 4,
   "metadata": {},
   "outputs": [
    {
     "name": "stdout",
     "output_type": "stream",
     "text": [
      "CSV has been processed and saved.\n"
     ]
    }
   ],
   "source": [
    "import pandas as pd\n",
    "\n",
    "# Define the path to your CSV file\n",
    "csv_path = '/mnt/f/SKRIPSI/Data/PhishStorm/urlset.csv'\n",
    "\n",
    "# Load the CSV file into a pandas DataFrame with a different encoding\n",
    "df = pd.read_csv(csv_path, encoding='ISO-8859-1')\n",
    "\n",
    "# Rename the columns 'domain' to 'Domain' and 'label' to 'Label'\n",
    "df.rename(columns={'domain': 'Domain', 'label': 'Label'}, inplace=True)\n",
    "\n",
    "# Drop all columns except 'Domain' and 'Label'\n",
    "df = df[['Domain', 'Label']]\n",
    "\n",
    "# Insert a new empty 'Content' column between 'Domain' and 'Label'\n",
    "df.insert(1, 'Content', '')\n",
    "\n",
    "# Save the modified DataFrame to a new CSV file (optional)\n",
    "output_csv_path = '/mnt/f/SKRIPSI/Data/PhishStorm/modified_urlset.csv'\n",
    "df.to_csv(output_csv_path, index=False)\n",
    "\n",
    "print(\"CSV has been processed and saved.\")\n"
   ]
  }
 ],
 "metadata": {
  "kernelspec": {
   "display_name": "tf-wsl",
   "language": "python",
   "name": "python3"
  },
  "language_info": {
   "codemirror_mode": {
    "name": "ipython",
    "version": 3
   },
   "file_extension": ".py",
   "mimetype": "text/x-python",
   "name": "python",
   "nbconvert_exporter": "python",
   "pygments_lexer": "ipython3",
   "version": "3.9.19"
  }
 },
 "nbformat": 4,
 "nbformat_minor": 2
}
