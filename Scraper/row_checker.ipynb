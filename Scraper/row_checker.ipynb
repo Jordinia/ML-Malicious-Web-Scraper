{
 "cells": [
  {
   "cell_type": "code",
   "execution_count": 1,
   "metadata": {},
   "outputs": [
    {
     "data": {
      "text/html": [
       "<div>\n",
       "<style scoped>\n",
       "    .dataframe tbody tr th:only-of-type {\n",
       "        vertical-align: middle;\n",
       "    }\n",
       "\n",
       "    .dataframe tbody tr th {\n",
       "        vertical-align: top;\n",
       "    }\n",
       "\n",
       "    .dataframe thead th {\n",
       "        text-align: right;\n",
       "    }\n",
       "</style>\n",
       "<table border=\"1\" class=\"dataframe\">\n",
       "  <thead>\n",
       "    <tr style=\"text-align: right;\">\n",
       "      <th></th>\n",
       "      <th>Domain</th>\n",
       "      <th>Content</th>\n",
       "    </tr>\n",
       "  </thead>\n",
       "  <tbody>\n",
       "    <tr>\n",
       "      <th>count</th>\n",
       "      <td>25549</td>\n",
       "      <td>25549</td>\n",
       "    </tr>\n",
       "    <tr>\n",
       "      <th>unique</th>\n",
       "      <td>23135</td>\n",
       "      <td>24886</td>\n",
       "    </tr>\n",
       "    <tr>\n",
       "      <th>top</th>\n",
       "      <td>https://bizidex.com</td>\n",
       "      <td>One moment, please...\\nPlease wait while your ...</td>\n",
       "    </tr>\n",
       "    <tr>\n",
       "      <th>freq</th>\n",
       "      <td>16</td>\n",
       "      <td>538</td>\n",
       "    </tr>\n",
       "  </tbody>\n",
       "</table>\n",
       "</div>"
      ],
      "text/plain": [
       "                     Domain                                            Content\n",
       "count                 25549                                              25549\n",
       "unique                23135                                              24886\n",
       "top     https://bizidex.com  One moment, please...\\nPlease wait while your ...\n",
       "freq                     16                                                538"
      ]
     },
     "execution_count": 1,
     "metadata": {},
     "output_type": "execute_result"
    }
   ],
   "source": [
    "import pandas as pd\n",
    "import csv\n",
    "\n",
    "# File path to your CSV\n",
    "input_file = \"/home/jordinia/Projects/ML-Malicious-Web-Scraper/domains_and_content.csv\"\n",
    "\n",
    "# Step 1: Read the CSV file with proper handling for multiline text in quotes\n",
    "df = pd.read_csv(input_file, quoting=csv.QUOTE_ALL)\n",
    "\n",
    "# Step 2: Check the dataframe to ensure it's loaded correctly\n",
    "df.describe()\n"
   ]
  },
  {
   "cell_type": "code",
   "execution_count": 5,
   "metadata": {},
   "outputs": [
    {
     "name": "stdout",
     "output_type": "stream",
     "text": [
      "                         Domain  \\\n",
      "9521    https://judolbet88.live   \n",
      "12472   https://pernusanews.com   \n",
      "19537     https://www.gelora.co   \n",
      "22808  https://www.puskapik.com   \n",
      "\n",
      "                                                 Content  \n",
      "9521   Judolbet88 Situs Info Login Game Gacor Livecha...  \n",
      "12472  Kasum TNI Pimpin Acara Penyerahan Kendaraan Di...  \n",
      "19537  Banyak Video Testimoni Positif di Tengah Kerja...  \n",
      "22808  Tak Temui Deputi II KSP, Begini Klarifikasi Bu...  \n"
     ]
    }
   ],
   "source": [
    "# Search for the word \"gacor\" in the \"Content\" column (case insensitive)\n",
    "gacor_rows = df[df['Content'].str.contains(\"judol\", case=False, na=False)]\n",
    "\n",
    "# Print the rows where \"gacor\" is found\n",
    "print(gacor_rows)"
   ]
  },
  {
   "cell_type": "code",
   "execution_count": 4,
   "metadata": {},
   "outputs": [],
   "source": [
    "# Save the filtered rows to a new CSV file\n",
    "output_file = \"/home/jordinia/Projects/ML-Malicious-Web-Scraper/casino.csv\"\n",
    "gacor_rows.to_csv(output_file, index=False)"
   ]
  },
  {
   "cell_type": "code",
   "execution_count": 1,
   "metadata": {},
   "outputs": [
    {
     "data": {
      "text/html": [
       "<div>\n",
       "<style scoped>\n",
       "    .dataframe tbody tr th:only-of-type {\n",
       "        vertical-align: middle;\n",
       "    }\n",
       "\n",
       "    .dataframe tbody tr th {\n",
       "        vertical-align: top;\n",
       "    }\n",
       "\n",
       "    .dataframe thead th {\n",
       "        text-align: right;\n",
       "    }\n",
       "</style>\n",
       "<table border=\"1\" class=\"dataframe\">\n",
       "  <thead>\n",
       "    <tr style=\"text-align: right;\">\n",
       "      <th></th>\n",
       "      <th>Domain</th>\n",
       "      <th>Content</th>\n",
       "    </tr>\n",
       "  </thead>\n",
       "  <tbody>\n",
       "    <tr>\n",
       "      <th>count</th>\n",
       "      <td>84</td>\n",
       "      <td>84</td>\n",
       "    </tr>\n",
       "    <tr>\n",
       "      <th>unique</th>\n",
       "      <td>77</td>\n",
       "      <td>84</td>\n",
       "    </tr>\n",
       "    <tr>\n",
       "      <th>top</th>\n",
       "      <td>https://woocommerce.staging-pop.com</td>\n",
       "      <td>visit this web-site Archives - amoxilbest.us.c...</td>\n",
       "    </tr>\n",
       "    <tr>\n",
       "      <th>freq</th>\n",
       "      <td>3</td>\n",
       "      <td>1</td>\n",
       "    </tr>\n",
       "  </tbody>\n",
       "</table>\n",
       "</div>"
      ],
      "text/plain": [
       "                                     Domain  \\\n",
       "count                                    84   \n",
       "unique                                   77   \n",
       "top     https://woocommerce.staging-pop.com   \n",
       "freq                                      3   \n",
       "\n",
       "                                                  Content  \n",
       "count                                                  84  \n",
       "unique                                                 84  \n",
       "top     visit this web-site Archives - amoxilbest.us.c...  \n",
       "freq                                                    1  "
      ]
     },
     "execution_count": 1,
     "metadata": {},
     "output_type": "execute_result"
    }
   ],
   "source": [
    "import pandas as pd\n",
    "import csv\n",
    "\n",
    "# File path to your CSV\n",
    "input_file = \"/home/jordinia/Projects/ML-Malicious-Web-Scraper/gamblinggacor.csv\"\n",
    "\n",
    "# Step 1: Read the CSV file with proper handling for multiline text in quotes\n",
    "df = pd.read_csv(input_file, quoting=csv.QUOTE_ALL)\n",
    "\n",
    "# Step 2: Check the dataframe to ensure it's loaded correctly\n",
    "df.describe()\n"
   ]
  },
  {
   "cell_type": "code",
   "execution_count": 32,
   "metadata": {},
   "outputs": [
    {
     "name": "stdout",
     "output_type": "stream",
     "text": [
      "Domain                                      http://aa.oma.be\n",
      "Content    MESS / Mass loss from Evolved Stars | Astronom...\n",
      "Name: 59, dtype: object\n"
     ]
    }
   ],
   "source": [
    "print(df.iloc[59])"
   ]
  },
  {
   "cell_type": "code",
   "execution_count": null,
   "metadata": {},
   "outputs": [],
   "source": [
    "print(df.iloc[16161])"
   ]
  },
  {
   "cell_type": "code",
   "execution_count": null,
   "metadata": {},
   "outputs": [],
   "source": [
    "import pandas as pd\n",
    "\n",
    "# Path to the input CSV file with domains\n",
    "input_csv = '/mnt/f/SKRIPSI/Data/Processed/domains_and_content_processed.csv'\n",
    "\n",
    "# Path to the output CSV file for processed domains\n",
    "output_csv = '/mnt/f/SKRIPSI/Data/Processed/domains_processed.csv'\n",
    "\n",
    "# Read the CSV file into a pandas DataFrame\n",
    "df = pd.read_csv(input_csv)\n",
    "\n"
   ]
  },
  {
   "cell_type": "code",
   "execution_count": null,
   "metadata": {},
   "outputs": [],
   "source": [
    "df.head()"
   ]
  },
  {
   "cell_type": "code",
   "execution_count": null,
   "metadata": {},
   "outputs": [],
   "source": [
    "print(f\"The number of rows in df is: {len(df)}\")"
   ]
  },
  {
   "cell_type": "code",
   "execution_count": null,
   "metadata": {},
   "outputs": [],
   "source": [
    "# Find duplicates in the DataFrame based on the 'Domain' column\n",
    "duplicates = df[df.duplicated(subset=['Domain'])]\n",
    "\n",
    "# Count the number of duplicate rows\n",
    "num_duplicates = len(duplicates)\n",
    "\n",
    "# Print the number of duplicates\n",
    "print(f\"The number of duplicate rows in df is: {num_duplicates}\")"
   ]
  },
  {
   "cell_type": "code",
   "execution_count": null,
   "metadata": {},
   "outputs": [],
   "source": [
    "# Drop duplicates based on the 'Domain' column\n",
    "df_processed = df.drop_duplicates(subset=['Domain'])\n",
    "\n",
    "# Count the number of rows in the processed DataFrame\n",
    "row_count = len(df_processed)\n",
    "\n",
    "# Print the row count\n",
    "print(f\"The CSV file contains {row_count} unique domains.\")\n",
    "\n",
    "# Save the processed DataFrame to a new CSV file\n",
    "df_processed.to_csv(output_csv, index=False)\n",
    "\n",
    "print(f\"Processed domains saved to {output_csv}\")\n"
   ]
  }
 ],
 "metadata": {
  "kernelspec": {
   "display_name": "tf-wsl",
   "language": "python",
   "name": "python3"
  },
  "language_info": {
   "codemirror_mode": {
    "name": "ipython",
    "version": 3
   },
   "file_extension": ".py",
   "mimetype": "text/x-python",
   "name": "python",
   "nbconvert_exporter": "python",
   "pygments_lexer": "ipython3",
   "version": "3.9.19"
  }
 },
 "nbformat": 4,
 "nbformat_minor": 2
}
