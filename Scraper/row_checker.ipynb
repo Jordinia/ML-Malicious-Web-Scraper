{
 "cells": [
  {
   "cell_type": "code",
   "execution_count": null,
   "metadata": {},
   "outputs": [],
   "source": [
    "import pandas as pd\n",
    "\n",
    "# File path for the CSV file\n",
    "csv_file = '/home/jordinia/Projects/ML-Malicious-Web-Scraper/domains_and_content.csv'\n",
    "\n",
    "# Load the CSV file into a pandas DataFrame\n",
    "df = pd.read_csv(csv_file)"
   ]
  },
  {
   "cell_type": "code",
   "execution_count": null,
   "metadata": {},
   "outputs": [],
   "source": [
    "# Print the first few rows of the DataFrame (head)\n",
    "print(df.head())\n",
    "\n",
    "# Optional: Convert to numpy array if needed\n",
    "numpy_data = df.to_numpy()\n",
    "\n",
    "# Print the shape of the numpy array (for confirmation)\n",
    "print(numpy_data.shape)"
   ]
  },
  {
   "cell_type": "code",
   "execution_count": null,
   "metadata": {},
   "outputs": [],
   "source": [
    "print(df.iloc[16161])"
   ]
  },
  {
   "cell_type": "code",
   "execution_count": null,
   "metadata": {},
   "outputs": [],
   "source": [
    "import pandas as pd\n",
    "\n",
    "# Path to the input CSV file with domains\n",
    "input_csv = '/mnt/f/SKRIPSI/Data/Processed/domains_and_content_processed.csv'\n",
    "\n",
    "# Path to the output CSV file for processed domains\n",
    "output_csv = '/mnt/f/SKRIPSI/Data/Processed/domains_processed.csv'\n",
    "\n",
    "# Read the CSV file into a pandas DataFrame\n",
    "df = pd.read_csv(input_csv)\n",
    "\n"
   ]
  },
  {
   "cell_type": "code",
   "execution_count": null,
   "metadata": {},
   "outputs": [],
   "source": [
    "df.head()"
   ]
  },
  {
   "cell_type": "code",
   "execution_count": null,
   "metadata": {},
   "outputs": [],
   "source": [
    "print(f\"The number of rows in df is: {len(df)}\")"
   ]
  },
  {
   "cell_type": "code",
   "execution_count": null,
   "metadata": {},
   "outputs": [],
   "source": [
    "# Find duplicates in the DataFrame based on the 'Domain' column\n",
    "duplicates = df[df.duplicated(subset=['Domain'])]\n",
    "\n",
    "# Count the number of duplicate rows\n",
    "num_duplicates = len(duplicates)\n",
    "\n",
    "# Print the number of duplicates\n",
    "print(f\"The number of duplicate rows in df is: {num_duplicates}\")"
   ]
  },
  {
   "cell_type": "code",
   "execution_count": null,
   "metadata": {},
   "outputs": [],
   "source": [
    "# Drop duplicates based on the 'Domain' column\n",
    "df_processed = df.drop_duplicates(subset=['Domain'])\n",
    "\n",
    "# Count the number of rows in the processed DataFrame\n",
    "row_count = len(df_processed)\n",
    "\n",
    "# Print the row count\n",
    "print(f\"The CSV file contains {row_count} unique domains.\")\n",
    "\n",
    "# Save the processed DataFrame to a new CSV file\n",
    "df_processed.to_csv(output_csv, index=False)\n",
    "\n",
    "print(f\"Processed domains saved to {output_csv}\")\n"
   ]
  }
 ],
 "metadata": {
  "language_info": {
   "name": "python"
  }
 },
 "nbformat": 4,
 "nbformat_minor": 2
}
